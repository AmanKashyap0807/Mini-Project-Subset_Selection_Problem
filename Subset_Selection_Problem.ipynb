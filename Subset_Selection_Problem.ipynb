{
  "cells": [
    {
      "cell_type": "markdown",
      "metadata": {
        "colab_type": "text",
        "id": "view-in-github"
      },
      "source": [
        "<a href=\"https://colab.research.google.com/github/psrana/01-Mini-Project-Subset-Selection-Problem/blob/main/Subset_Selection_Problem.ipynb\" target=\"_parent\"><img src=\"https://colab.research.google.com/assets/colab-badge.svg\" alt=\"Open In Colab\"/></a>"
      ]
    },
    {
      "cell_type": "markdown",
      "metadata": {
        "id": "7nQSRI4Dim1Y"
      },
      "source": [
        "  ---\n",
        "# **Subset Selection Problem**\n",
        "---\n",
        "####**1. Problem Statement:**\n",
        "Find all the subsets from a set of numbers whose sum is zero.\n",
        "\n",
        "####**Constraint: Subset size must be 5**\n",
        "Set={-12, -3, -6, 7, 2, -2, 6, 3, 9, -7, -5, -8, 1, 11, -9, -4}\n",
        "\n",
        "---"
      ]
    },
    {
      "cell_type": "markdown",
      "metadata": {
        "id": "A30y-VtNim1h"
      },
      "source": [
        "### **1.1 Library inclusion**"
      ]
    },
    {
      "cell_type": "code",
      "execution_count": 1,
      "metadata": {
        "id": "cF_mSA9Xim1j"
      },
      "outputs": [],
      "source": [
        "import random as r"
      ]
    },
    {
      "cell_type": "markdown",
      "metadata": {
        "id": "UjvBYy0Lim1m"
      },
      "source": [
        "### **1.2 Parameter Setting**"
      ]
    },
    {
      "cell_type": "code",
      "execution_count": 2,
      "metadata": {
        "id": "NHB2KMhZim1o"
      },
      "outputs": [],
      "source": [
        "Set         = set([-12, -3, -6, 7, 2, -2, 6, 3, 9, -7, -5, -8, 1, 11, -9, -4])\n",
        "SetSize     = 5\n",
        "ResultList  = set()    # Store Result List i.e. list of sets whose sum is zero\n",
        "Iterations  = 1000    # Number of Inerations"
      ]
    },
    {
      "cell_type": "markdown",
      "metadata": {
        "id": "BTLd3s--im1c"
      },
      "source": [
        "### **1.3 Start Program**\n",
        "\n",
        "\n"
      ]
    },
    {
      "cell_type": "code",
      "execution_count": 7,
      "metadata": {
        "id": "veBU-f21im1x"
      },
      "outputs": [],
      "source": [
        "# Loop till number of Iterations\n",
        "for i in range(Iterations):\n",
        "    # Select number of elements from Set\n",
        "    Chromosome = r.sample(list(Set),SetSize)\n",
        "    \n",
        "    # Sum the number of elements in the Chromosome\n",
        "    if sum(Chromosome) == 0:\n",
        "        ResultList.add(tuple(Chromosome))"
      ]
    },
    {
      "cell_type": "markdown",
      "metadata": {
        "id": "nRWYsJNVim1z"
      },
      "source": [
        "### **1.4 Print the sets and total count**\n"
      ]
    },
    {
      "cell_type": "code",
      "execution_count": 8,
      "metadata": {
        "colab": {
          "base_uri": "https://localhost:8080/"
        },
        "id": "41abL1k-im10",
        "outputId": "a0e691c5-d0e5-4608-af58-1783264ae568",
        "scrolled": true
      },
      "outputs": [
        {
          "name": "stdout",
          "output_type": "stream",
          "text": [
            "(-7, 3, 2, 7, -5)\n",
            "(6, -7, -8, 2, 7)\n",
            "(3, 6, -4, -2, -3)\n",
            "(-6, -2, 6, -9, 11)\n",
            "(-4, -7, 9, -9, 11)\n",
            "(11, -2, 2, -7, -4)\n",
            "(2, -4, 6, -7, 3)\n",
            "(-7, 7, 3, -9, 6)\n",
            "(2, -7, 1, -3, 7)\n",
            "(-8, -4, 7, 11, -6)\n",
            "(7, 1, -2, 2, -8)\n",
            "(-12, -3, 6, -2, 11)\n",
            "(1, 11, -6, -9, 3)\n",
            "(-3, -9, 7, 9, -4)\n",
            "(-12, 2, 9, 3, -2)\n",
            "(6, 3, -12, 9, -6)\n",
            "(-4, 11, -7, -2, 2)\n",
            "(9, 2, -3, -9, 1)\n",
            "(7, 6, -4, -12, 3)\n",
            "(-7, 6, 3, -3, 1)\n",
            "(-4, -8, 11, 7, -6)\n",
            "(-5, -8, -2, 9, 6)\n",
            "(-3, 11, -8, -2, 2)\n",
            "(-9, -5, -2, 9, 7)\n",
            "(-6, -7, 6, -4, 11)\n",
            "(11, 7, -8, 2, -12)\n",
            "(-7, 6, 9, -3, -5)\n",
            "(1, -3, 3, 11, -12)\n",
            "(-2, 1, -3, 9, -5)\n",
            "(-5, -9, -6, 11, 9)\n",
            "(-3, 9, -6, -7, 7)\n",
            "(6, 3, -5, -6, 2)\n",
            "(-8, -6, 11, 7, -4)\n",
            "(-9, -3, 11, 9, -8)\n",
            "(3, -7, 6, 7, -9)\n",
            "(-6, 1, -12, 6, 11)\n",
            "(-12, 6, 9, 1, -4)\n",
            "(3, 9, -2, -3, -7)\n",
            "(-9, 2, 9, 6, -8)\n",
            "(-2, -8, 9, -5, 6)\n",
            "(-3, 9, -5, -8, 7)\n",
            "(-12, -5, 2, 6, 9)\n",
            "(1, 11, -2, -6, -4)\n",
            "(1, 7, -5, -9, 6)\n",
            "(-8, 3, 11, -12, 6)\n",
            "(-9, -8, -3, 11, 9)\n",
            "(-4, 11, -12, 2, 3)\n",
            "(7, -7, -4, 3, 1)\n",
            "(-2, -3, 9, 1, -5)\n",
            "(11, -2, -12, 2, 1)\n",
            "(-2, -4, -12, 7, 11)\n",
            "(1, 2, 6, -2, -7)\n",
            "(-8, 9, 7, -6, -2)\n",
            "(-12, 3, -2, 2, 9)\n",
            "(1, -3, 9, -5, -2)\n",
            "\n",
            "Total Sets:  55 \n",
            "\n"
          ]
        }
      ],
      "source": [
        "# Print all the sets whose sum is zero\n",
        "for r in ResultList:\n",
        "\tprint (r)\n",
        "\n",
        "# Print total sets\n",
        "print (\"\\nTotal Sets: \", len(ResultList), \"\\n\")"
      ]
    },
    {
      "cell_type": "markdown",
      "metadata": {
        "id": "E3BNV7YLim12"
      },
      "source": [
        "---\n",
        "### **1.5 Complete Program**\n",
        "---"
      ]
    },
    {
      "cell_type": "code",
      "execution_count": 10,
      "metadata": {
        "colab": {
          "base_uri": "https://localhost:8080/"
        },
        "id": "c6KthRB9im14",
        "outputId": "331983c2-65c1-4033-e18b-0966276e7523"
      },
      "outputs": [
        {
          "name": "stdout",
          "output_type": "stream",
          "text": [
            "(1, -2, 3, -9, 7)\n",
            "(9, 3, 1, -9, -4)\n",
            "(9, 6, -9, 1, -7)\n",
            "(11, -3, 2, -2, -8)\n",
            "(9, -6, -3, -7, 7)\n",
            "(-2, 3, -3, 6, -4)\n",
            "(2, -9, -3, 1, 9)\n",
            "(1, -5, -9, 11, 2)\n",
            "(-7, 9, 7, -5, -4)\n",
            "(-3, 6, 11, -8, -6)\n",
            "(2, 9, -5, 3, -9)\n",
            "(1, -9, 7, -5, 6)\n",
            "(-7, 11, 6, -4, -6)\n",
            "(9, 11, -12, -2, -6)\n",
            "(6, -8, 11, -2, -7)\n",
            "(3, 7, -4, -8, 2)\n",
            "(-4, 2, 9, 1, -8)\n",
            "(-6, 11, -3, 3, -5)\n",
            "(2, 7, 1, -4, -6)\n",
            "(-3, -5, 9, -12, 11)\n",
            "(1, -7, 7, -12, 11)\n",
            "(-2, -7, -9, 7, 11)\n",
            "(-7, -2, 6, -6, 9)\n",
            "(7, 2, -2, -8, 1)\n",
            "(-7, -6, 1, 9, 3)\n",
            "(11, -5, -4, 6, -8)\n",
            "(1, 11, -6, 3, -9)\n",
            "(6, -3, -4, 3, -2)\n",
            "(3, 2, 6, -2, -9)\n",
            "(-7, -6, 9, -2, 6)\n",
            "(-12, 6, 11, -7, 2)\n",
            "(9, -6, 6, -7, -2)\n",
            "(-6, 3, 9, 6, -12)\n",
            "(-2, 9, -12, -6, 11)\n",
            "\n",
            "Total Sets:  34\n"
          ]
        }
      ],
      "source": [
        "#-------------------------------------------------------------\n",
        "# Step 1: Library inclusion                             \n",
        "#-------------------------------------------------------------\n",
        "import random as r\n",
        "\n",
        "\n",
        "#-------------------------------------------------------------\n",
        "# Step 2: Parameter Setting\n",
        "#-------------------------------------------------------------\n",
        "Set         = set([-12, -3, -6, 7, 2, -2, 6, 3, 9, -7, -5, -8, 1, 11, -9, -4])\n",
        "SetSize     = 5\n",
        "ResultList  = set()    # Store Result List i.e. list of sets whose sum is zero\n",
        "Iterations  = 1000   # Number of Inerations\n",
        "\n",
        "\n",
        "#-------------------------------------------------------------\n",
        "# Step3: Start Program\n",
        "#-------------------------------------------------------------\n",
        "\n",
        "# Loop till number of Iterations\n",
        "for i in range(Iterations):\n",
        "    # Select number of elements from Set\n",
        "    Chromosome = r.sample(list(Set),SetSize)\n",
        "\n",
        "    # Sum the number of elements in the Chromosome\n",
        "    if sum(Chromosome) == 0:\n",
        "        ResultList.add(tuple(Chromosome))\n",
        "\n",
        "# Print all the sets whose sum is zero\n",
        "for r in ResultList:\n",
        "\tprint (r)\n",
        "\n",
        "# Print total sets\n",
        "print (\"\\nTotal Sets: \", len(ResultList))\n"
      ]
    },
    {
      "cell_type": "markdown",
      "metadata": {
        "id": "stxrIcZtk4LT"
      },
      "source": [
        "---\n",
        "### **1.6 Complete Program with sorting**\n",
        "---"
      ]
    },
    {
      "cell_type": "code",
      "execution_count": 12,
      "metadata": {
        "colab": {
          "base_uri": "https://localhost:8080/"
        },
        "id": "zzblepy0k4LU",
        "outputId": "06685741-54c1-4606-a3c0-2b5533e9eba3"
      },
      "outputs": [
        {
          "name": "stdout",
          "output_type": "stream",
          "text": [
            "(-12, -3, 2, 6, 7)\n",
            "(-12, -6, -2, 9, 11)\n",
            "(-9, -8, -3, 9, 11)\n",
            "(-9, -2, 1, 3, 7)\n",
            "(-7, -3, 1, 3, 6)\n",
            "(-5, -4, -3, 1, 11)\n",
            "(-6, -4, -3, 6, 7)\n",
            "(-9, -7, -4, 9, 11)\n",
            "(-9, -2, 2, 3, 6)\n",
            "(-9, -5, 2, 3, 9)\n",
            "(-6, -4, 1, 3, 6)\n",
            "(-7, -6, 1, 3, 9)\n",
            "(-7, -5, 2, 3, 7)\n",
            "(-6, -5, -3, 3, 11)\n",
            "(-9, -6, -3, 7, 11)\n",
            "(-7, -4, -2, 2, 11)\n",
            "(-6, -5, 2, 3, 6)\n",
            "(-8, -4, 1, 2, 9)\n",
            "(-9, -8, 1, 7, 9)\n",
            "(-6, -4, -2, 3, 9)\n",
            "(-8, -6, 1, 2, 11)\n",
            "(-9, -6, -2, 6, 11)\n",
            "(-12, -7, 1, 7, 11)\n",
            "(-12, -8, 2, 7, 11)\n",
            "\n",
            "Total Sets:  24\n"
          ]
        }
      ],
      "source": [
        "#-------------------------------------------------------------\n",
        "# Step 1: Library inclusion                             \n",
        "#-------------------------------------------------------------\n",
        "import random as r\n",
        "\n",
        "\n",
        "#-------------------------------------------------------------\n",
        "# Step 2: Parameter Setting\n",
        "#-------------------------------------------------------------\n",
        "Set         = set([-12, -3, -6, 7, 2, -2, 6, 3, 9, -7, -5, -8, 1, 11, -9, -4])\n",
        "SetSize     = 5\n",
        "ResultList  = set()    # Store Result List i.e. list of sets whose sum is zero\n",
        "Iterations  = 1000   # Number of Inerations\n",
        "\n",
        "\n",
        "#-------------------------------------------------------------\n",
        "# Step3: Start Program\n",
        "#-------------------------------------------------------------\n",
        "\n",
        "# Loop till number of Iterations\n",
        "for i in range(Iterations):\n",
        "    # Select number of elements from Set\n",
        "    Chromosome = r.sample(list(Set),SetSize)\n",
        "    Chromosome.sort()\n",
        "\n",
        "    # Sum the number of elements in the Chromosome\n",
        "    if sum(Chromosome) == 0:\n",
        "        ResultList.add(tuple(Chromosome))\n",
        "\n",
        "# Print all the sets whose sum is zero\n",
        "for r in ResultList:\n",
        "\tprint (r)\n",
        "\n",
        "# Print total sets\n",
        "print (\"\\nTotal Sets: \", len(ResultList))\n"
      ]
    },
    {
      "cell_type": "markdown",
      "metadata": {
        "id": "Kaevs6ROim18"
      },
      "source": [
        "---\n",
        "####**2. Problem Statement:**\n",
        "Find all the subsets from a set of numbers whose sum is zero.\n",
        "\n",
        "####**Constraint: Subset size must be 3 to 6 only**\n",
        "Set={-12, -3, -6, 7, 2, -2, 6, 3, 9, -7, -5, -8, 1, 11, -9, -4}\n",
        "\n",
        "---"
      ]
    },
    {
      "cell_type": "code",
      "execution_count": 13,
      "metadata": {
        "colab": {
          "base_uri": "https://localhost:8080/"
        },
        "id": "XmPJbrOXim19",
        "outputId": "3d0b3e93-3257-4777-ba54-453ba4961f32"
      },
      "outputs": [
        {
          "name": "stdout",
          "output_type": "stream",
          "text": [
            "(-9, -3, 2, 3, 7)\n",
            "(-8, -3, 2, 9)\n",
            "(-9, 2, 7)\n",
            "(-12, -9, 1, 9, 11)\n",
            "(-9, -2, 1, 3, 7)\n",
            "(-5, -4, -3, 2, 3, 7)\n",
            "(-8, -5, -4, 2, 6, 9)\n",
            "(-5, -4, 2, 7)\n",
            "(-12, 1, 11)\n",
            "(-8, -6, -5, 2, 6, 11)\n",
            "(-12, 2, 3, 7)\n",
            "(-4, -3, -2, 9)\n",
            "(-8, -6, -4, 3, 6, 9)\n",
            "(-6, -4, 1, 9)\n",
            "(-8, 1, 7)\n",
            "(-7, -4, 11)\n",
            "(-12, -3, 6, 9)\n",
            "(-12, -6, 7, 11)\n",
            "(-8, -5, 1, 3, 9)\n",
            "(-8, -5, -3, 3, 6, 7)\n",
            "(-6, -5, 11)\n",
            "(-6, -3, 2, 7)\n",
            "(-9, -6, -5, 3, 6, 11)\n",
            "(-7, 1, 6)\n",
            "(-9, -5, -2, 2, 3, 11)\n",
            "(-12, -8, -7, 7, 9, 11)\n",
            "(-7, -2, 2, 7)\n",
            "(-8, -4, 1, 2, 3, 6)\n",
            "\n",
            "Total Sets:  28\n"
          ]
        }
      ],
      "source": [
        "#-------------------------------------------------------------\n",
        "# Step 1: Library inclusion                             \n",
        "#-------------------------------------------------------------\n",
        "import random as r\n",
        "\n",
        "\n",
        "#-------------------------------------------------------------\n",
        "# Step 2: Parameter Setting\n",
        "#-------------------------------------------------------------\n",
        "Set         = set([-12, -3, -6, 7, 2, -2, 6, 3, 9, -7, -5, -8, 1, 11, -9, -4])\n",
        "SetLB       = 3\n",
        "SetUB       = 6\n",
        "ResultList  = set()    # Store Result List i.e. list of sets whose sum is zero\n",
        "Iterations  = 1000   # Number of Inerations\n",
        "\n",
        "\n",
        "#-------------------------------------------------------------\n",
        "# Step3: Start Program\n",
        "#-------------------------------------------------------------\n",
        "\n",
        "# Loop till number of Iterations\n",
        "for i in range(Iterations):\n",
        "    # Select set size randomly\n",
        "    SetSize = r.randint(SetLB,SetUB)\n",
        "\t\n",
        "    # Select number of elements from Set\n",
        "    Chromosome = r.sample(list(Set),SetSize)\n",
        "    Chromosome.sort()\n",
        "\n",
        "    # Sum the number of elements in the Chromosome\n",
        "    if sum(Chromosome) == 0:\n",
        "        ResultList.add(tuple(Chromosome))\n",
        "\n",
        "# Print all the sets whose sum is zero\n",
        "for r in ResultList:\n",
        "\tprint (r)\n",
        "\n",
        "# Print total sets\n",
        "print (\"\\nTotal Sets: \", len(ResultList))\n"
      ]
    }
  ],
  "metadata": {
    "colab": {
      "collapsed_sections": [],
      "include_colab_link": true,
      "name": "Subset Selection Problem.ipynb",
      "provenance": []
    },
    "kernelspec": {
      "display_name": "Python 3",
      "language": "python",
      "name": "python3"
    },
    "language_info": {
      "codemirror_mode": {
        "name": "ipython",
        "version": 3
      },
      "file_extension": ".py",
      "mimetype": "text/x-python",
      "name": "python",
      "nbconvert_exporter": "python",
      "pygments_lexer": "ipython3",
      "version": "3.11.7"
    }
  },
  "nbformat": 4,
  "nbformat_minor": 0
}
